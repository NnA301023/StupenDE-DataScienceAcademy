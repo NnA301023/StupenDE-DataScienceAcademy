{
 "cells": [
  {
   "cell_type": "markdown",
   "id": "cc5ba86e",
   "metadata": {},
   "source": [
    "### Intruksi Tugas"
   ]
  },
  {
   "cell_type": "markdown",
   "id": "7cfbc4cb",
   "metadata": {},
   "source": [
    "Ubah data yang ada pada superstore.xlsx menjadi data yang memiliki permasalahan seperti:\n",
    " \n",
    "  - Inkonsistensi Data\n",
    "  - Invalid Data\n",
    "  - Data ganda (duplicate)\n",
    "  - Missing Value\n",
    "  - Outlier"
   ]
  },
  {
   "cell_type": "markdown",
   "id": "75893d63",
   "metadata": {},
   "source": [
    "Soal:\n",
    "\n",
    "1. Buatkan Minimal 3 permasalahan pada data superstore.xlsx\n",
    "2. Save file yg sudah dibuat kotor menjadi superstore-dirty-tugas1.xlsx\n",
    "3. Perbaiki data dengan berbagai metode yang bisa dilakukan\n",
    "4. Save file yang sudah diperbaiki menjadi superstore-clean-tugas1.xlsx\n",
    "5. Buatkan file .pdf berisikan laporan sederhana terkait yang sudah dikerjakan"
   ]
  },
  {
   "cell_type": "markdown",
   "id": "1271c585",
   "metadata": {},
   "source": [
    "Format File: [NamaGrup-TugasDW1-NamaLengkap.zip]()"
   ]
  },
  {
   "cell_type": "code",
   "execution_count": 9,
   "id": "378e60f0",
   "metadata": {},
   "outputs": [],
   "source": [
    "# Load libraries \n",
    "import random \n",
    "import numpy as np\n",
    "import pandas as pd"
   ]
  },
  {
   "cell_type": "code",
   "execution_count": 3,
   "id": "9eaee66a",
   "metadata": {},
   "outputs": [],
   "source": [
    "# Load dataset - original\n",
    "data_ori = pd.read_excel(\"dataset/Superstores.xlsx\")"
   ]
  },
  {
   "cell_type": "code",
   "execution_count": 6,
   "id": "2ba4bc03",
   "metadata": {},
   "outputs": [
    {
     "name": "stdout",
     "output_type": "stream",
     "text": [
      "<class 'pandas.core.frame.DataFrame'>\n",
      "RangeIndex: 9994 entries, 0 to 9993\n",
      "Data columns (total 22 columns):\n",
      " #   Column         Non-Null Count  Dtype         \n",
      "---  ------         --------------  -----         \n",
      " 0   Row ID         9994 non-null   int64         \n",
      " 1   Order ID       9994 non-null   object        \n",
      " 2   Order Date     9994 non-null   datetime64[ns]\n",
      " 3   Ship Date      9994 non-null   datetime64[ns]\n",
      " 4   Ship Mode      9994 non-null   object        \n",
      " 5   Customer ID    9994 non-null   object        \n",
      " 6   Customer Name  9994 non-null   object        \n",
      " 7   Segment        9994 non-null   object        \n",
      " 8   Country        9994 non-null   object        \n",
      " 9   City           9994 non-null   object        \n",
      " 10  State          9994 non-null   object        \n",
      " 11  Postal Code    9994 non-null   int64         \n",
      " 12  Region         9994 non-null   object        \n",
      " 13  Product ID     9994 non-null   object        \n",
      " 14  Category       9994 non-null   object        \n",
      " 15  Sub-Category   9994 non-null   object        \n",
      " 16  Product Name   9994 non-null   object        \n",
      " 17  Sales          9994 non-null   float64       \n",
      " 18  Quantity       9994 non-null   int64         \n",
      " 19  Discount       9994 non-null   float64       \n",
      " 20  Profit         9994 non-null   float64       \n",
      " 21  Timestamps     9994 non-null   object        \n",
      "dtypes: datetime64[ns](2), float64(3), int64(3), object(14)\n",
      "memory usage: 1.7+ MB\n"
     ]
    }
   ],
   "source": [
    "# Overview Column and Missing Values\n",
    "data_ori.info()"
   ]
  },
  {
   "cell_type": "code",
   "execution_count": 7,
   "id": "8b5e6232",
   "metadata": {},
   "outputs": [
    {
     "data": {
      "text/html": [
       "<div>\n",
       "<style scoped>\n",
       "    .dataframe tbody tr th:only-of-type {\n",
       "        vertical-align: middle;\n",
       "    }\n",
       "\n",
       "    .dataframe tbody tr th {\n",
       "        vertical-align: top;\n",
       "    }\n",
       "\n",
       "    .dataframe thead th {\n",
       "        text-align: right;\n",
       "    }\n",
       "</style>\n",
       "<table border=\"1\" class=\"dataframe\">\n",
       "  <thead>\n",
       "    <tr style=\"text-align: right;\">\n",
       "      <th></th>\n",
       "      <th>Row ID</th>\n",
       "      <th>Postal Code</th>\n",
       "      <th>Sales</th>\n",
       "      <th>Quantity</th>\n",
       "      <th>Discount</th>\n",
       "      <th>Profit</th>\n",
       "    </tr>\n",
       "  </thead>\n",
       "  <tbody>\n",
       "    <tr>\n",
       "      <th>count</th>\n",
       "      <td>9994.000000</td>\n",
       "      <td>9994.000000</td>\n",
       "      <td>9994.000000</td>\n",
       "      <td>9994.000000</td>\n",
       "      <td>9994.000000</td>\n",
       "      <td>9994.000000</td>\n",
       "    </tr>\n",
       "    <tr>\n",
       "      <th>mean</th>\n",
       "      <td>4997.500000</td>\n",
       "      <td>55190.379428</td>\n",
       "      <td>229.858001</td>\n",
       "      <td>3.789574</td>\n",
       "      <td>0.156203</td>\n",
       "      <td>28.656896</td>\n",
       "    </tr>\n",
       "    <tr>\n",
       "      <th>std</th>\n",
       "      <td>2885.163629</td>\n",
       "      <td>32063.693350</td>\n",
       "      <td>623.245101</td>\n",
       "      <td>2.225110</td>\n",
       "      <td>0.206452</td>\n",
       "      <td>234.260108</td>\n",
       "    </tr>\n",
       "    <tr>\n",
       "      <th>min</th>\n",
       "      <td>1.000000</td>\n",
       "      <td>1040.000000</td>\n",
       "      <td>0.444000</td>\n",
       "      <td>1.000000</td>\n",
       "      <td>0.000000</td>\n",
       "      <td>-6599.978000</td>\n",
       "    </tr>\n",
       "    <tr>\n",
       "      <th>25%</th>\n",
       "      <td>2499.250000</td>\n",
       "      <td>23223.000000</td>\n",
       "      <td>17.280000</td>\n",
       "      <td>2.000000</td>\n",
       "      <td>0.000000</td>\n",
       "      <td>1.728750</td>\n",
       "    </tr>\n",
       "    <tr>\n",
       "      <th>50%</th>\n",
       "      <td>4997.500000</td>\n",
       "      <td>56430.500000</td>\n",
       "      <td>54.490000</td>\n",
       "      <td>3.000000</td>\n",
       "      <td>0.200000</td>\n",
       "      <td>8.666500</td>\n",
       "    </tr>\n",
       "    <tr>\n",
       "      <th>75%</th>\n",
       "      <td>7495.750000</td>\n",
       "      <td>90008.000000</td>\n",
       "      <td>209.940000</td>\n",
       "      <td>5.000000</td>\n",
       "      <td>0.200000</td>\n",
       "      <td>29.364000</td>\n",
       "    </tr>\n",
       "    <tr>\n",
       "      <th>max</th>\n",
       "      <td>9994.000000</td>\n",
       "      <td>99301.000000</td>\n",
       "      <td>22638.480000</td>\n",
       "      <td>14.000000</td>\n",
       "      <td>0.800000</td>\n",
       "      <td>8399.976000</td>\n",
       "    </tr>\n",
       "  </tbody>\n",
       "</table>\n",
       "</div>"
      ],
      "text/plain": [
       "            Row ID   Postal Code         Sales     Quantity     Discount  \\\n",
       "count  9994.000000   9994.000000   9994.000000  9994.000000  9994.000000   \n",
       "mean   4997.500000  55190.379428    229.858001     3.789574     0.156203   \n",
       "std    2885.163629  32063.693350    623.245101     2.225110     0.206452   \n",
       "min       1.000000   1040.000000      0.444000     1.000000     0.000000   \n",
       "25%    2499.250000  23223.000000     17.280000     2.000000     0.000000   \n",
       "50%    4997.500000  56430.500000     54.490000     3.000000     0.200000   \n",
       "75%    7495.750000  90008.000000    209.940000     5.000000     0.200000   \n",
       "max    9994.000000  99301.000000  22638.480000    14.000000     0.800000   \n",
       "\n",
       "            Profit  \n",
       "count  9994.000000  \n",
       "mean     28.656896  \n",
       "std     234.260108  \n",
       "min   -6599.978000  \n",
       "25%       1.728750  \n",
       "50%       8.666500  \n",
       "75%      29.364000  \n",
       "max    8399.976000  "
      ]
     },
     "execution_count": 7,
     "metadata": {},
     "output_type": "execute_result"
    }
   ],
   "source": [
    "# Check Statistic Information\n",
    "data_ori.describe()"
   ]
  },
  {
   "cell_type": "markdown",
   "id": "c3535fba",
   "metadata": {},
   "source": [
    "#### 1. Membuat 3 Permasalahan pada Data Original"
   ]
  },
  {
   "cell_type": "code",
   "execution_count": 13,
   "id": "e5c4d417",
   "metadata": {},
   "outputs": [],
   "source": [
    "## Create copy dataframe to avoid re-assign variable\n",
    "data_dirty = data_ori.copy()"
   ]
  },
  {
   "cell_type": "code",
   "execution_count": 14,
   "id": "0f5eaf80",
   "metadata": {},
   "outputs": [
    {
     "name": "stdout",
     "output_type": "stream",
     "text": [
      "<class 'pandas.core.frame.DataFrame'>\n",
      "RangeIndex: 9994 entries, 0 to 9993\n",
      "Data columns (total 22 columns):\n",
      " #   Column         Non-Null Count  Dtype         \n",
      "---  ------         --------------  -----         \n",
      " 0   Row ID         9994 non-null   int64         \n",
      " 1   Order ID       9994 non-null   object        \n",
      " 2   Order Date     9994 non-null   datetime64[ns]\n",
      " 3   Ship Date      9994 non-null   datetime64[ns]\n",
      " 4   Ship Mode      9994 non-null   object        \n",
      " 5   Customer ID    9994 non-null   object        \n",
      " 6   Customer Name  9994 non-null   object        \n",
      " 7   Segment        9994 non-null   object        \n",
      " 8   Country        9994 non-null   object        \n",
      " 9   City           9994 non-null   object        \n",
      " 10  State          9994 non-null   object        \n",
      " 11  Postal Code    9994 non-null   int64         \n",
      " 12  Region         9994 non-null   object        \n",
      " 13  Product ID     9994 non-null   object        \n",
      " 14  Category       9994 non-null   object        \n",
      " 15  Sub-Category   9994 non-null   object        \n",
      " 16  Product Name   9994 non-null   object        \n",
      " 17  Sales          9994 non-null   float64       \n",
      " 18  Quantity       9994 non-null   int64         \n",
      " 19  Discount       9994 non-null   float64       \n",
      " 20  Profit         9994 non-null   float64       \n",
      " 21  Timestamps     9994 non-null   object        \n",
      "dtypes: datetime64[ns](2), float64(3), int64(3), object(14)\n",
      "memory usage: 1.7+ MB\n"
     ]
    }
   ],
   "source": [
    "# Overview Column and Missing Values\n",
    "data_dirty.info()"
   ]
  },
  {
   "cell_type": "markdown",
   "id": "2f3ab5c6",
   "metadata": {},
   "source": [
    "Interpretation:\n",
    "\n",
    "  Based on information above, we could overview total rows in original dataset in 9.994 total rows, has several type of data such as int, object, datetime, and float, data original also spent 1,7 Mb memory size."
   ]
  },
  {
   "cell_type": "code",
   "execution_count": 12,
   "id": "a6e4dd15",
   "metadata": {},
   "outputs": [
    {
     "name": "stdout",
     "output_type": "stream",
     "text": [
      "[INFO] - 5 Sample Index Rows: [7400 2423 7147 4910 5015]\n",
      "[INFO] - 5 Sample Index Cols: ['Profit' 'Sub-Category' 'Order ID' 'City' 'Ship Mode']\n"
     ]
    }
   ],
   "source": [
    "# 1. Membuat Missing Values pada Random Column dan Rows\n",
    "## Define total row and column should be contain NaN\n",
    "n_rows_missing = 50\n",
    "n_cols_missing = 5\n",
    "\n",
    "## Apply randomization for index selected based on total row and colum above\n",
    "random_idx_rows = np.random.choice(data_ori.index, n_rows_missing, replace = False)\n",
    "random_idx_cols = np.random.choice(data_ori.columns, n_cols_missing, replace = False)\n",
    "\n",
    "## Overview sample randomization result\n",
    "print(f\"[INFO] - 5 Sample Index Rows: {random_idx_rows[:5]}\")\n",
    "print(f\"[INFO] - 5 Sample Index Cols: {random_idx_cols[:5]}\")"
   ]
  },
  {
   "cell_type": "code",
   "execution_count": 17,
   "id": "22593b49",
   "metadata": {},
   "outputs": [],
   "source": [
    "## Apply NaN on selected row and column\n",
    "for row in random_idx_rows:\n",
    "    data_dirty.loc[row, random_idx_cols] = np.nan"
   ]
  },
  {
   "cell_type": "code",
   "execution_count": 18,
   "id": "5fe31d04",
   "metadata": {},
   "outputs": [
    {
     "name": "stdout",
     "output_type": "stream",
     "text": [
      "<class 'pandas.core.frame.DataFrame'>\n",
      "RangeIndex: 9994 entries, 0 to 9993\n",
      "Data columns (total 22 columns):\n",
      " #   Column         Non-Null Count  Dtype         \n",
      "---  ------         --------------  -----         \n",
      " 0   Row ID         9994 non-null   int64         \n",
      " 1   Order ID       9944 non-null   object        \n",
      " 2   Order Date     9994 non-null   datetime64[ns]\n",
      " 3   Ship Date      9994 non-null   datetime64[ns]\n",
      " 4   Ship Mode      9944 non-null   object        \n",
      " 5   Customer ID    9994 non-null   object        \n",
      " 6   Customer Name  9994 non-null   object        \n",
      " 7   Segment        9994 non-null   object        \n",
      " 8   Country        9994 non-null   object        \n",
      " 9   City           9944 non-null   object        \n",
      " 10  State          9994 non-null   object        \n",
      " 11  Postal Code    9994 non-null   int64         \n",
      " 12  Region         9994 non-null   object        \n",
      " 13  Product ID     9994 non-null   object        \n",
      " 14  Category       9994 non-null   object        \n",
      " 15  Sub-Category   9944 non-null   object        \n",
      " 16  Product Name   9994 non-null   object        \n",
      " 17  Sales          9994 non-null   float64       \n",
      " 18  Quantity       9994 non-null   int64         \n",
      " 19  Discount       9994 non-null   float64       \n",
      " 20  Profit         9944 non-null   float64       \n",
      " 21  Timestamps     9994 non-null   object        \n",
      "dtypes: datetime64[ns](2), float64(3), int64(3), object(14)\n",
      "memory usage: 1.7+ MB\n"
     ]
    }
   ],
   "source": [
    "# Overview Column and Missing Values - After NaN applied\n",
    "data_dirty.info()"
   ]
  },
  {
   "cell_type": "markdown",
   "id": "81fb8047",
   "metadata": {},
   "source": [
    "Interpretation:\n",
    "\n",
    "Based on information of dataframe above, we could overview dataframe contains Missing Value in several column with total missing value approximately around 50 rows."
   ]
  },
  {
   "cell_type": "code",
   "execution_count": 21,
   "id": "4c4afa2e",
   "metadata": {},
   "outputs": [
    {
     "data": {
      "text/plain": [
       "Consumer       5191\n",
       "Corporate      3020\n",
       "Home Office    1783\n",
       "Name: Segment, dtype: int64"
      ]
     },
     "execution_count": 21,
     "metadata": {},
     "output_type": "execute_result"
    }
   ],
   "source": [
    "## Overview \"Segment\" column distribution - Before Randomization\n",
    "data_dirty[\"Segment\"].value_counts()"
   ]
  },
  {
   "cell_type": "markdown",
   "id": "d06882b3",
   "metadata": {},
   "source": [
    "Interpretation:\n",
    "\n",
    "Based on the provided information, it seems to be a distribution of customers among different segments. The data appears to represent the number of customers in each segment, with three distinct segments: Consumer, Corporate, and Home Office."
   ]
  },
  {
   "cell_type": "code",
   "execution_count": 22,
   "id": "42f0e420",
   "metadata": {},
   "outputs": [],
   "source": [
    "# 2. Mengubah format data pada kolom \"Segment\"\n",
    "## Apply new \"variable\" on selected row in \"Segment\" column\n",
    "for row in random_idx_rows:\n",
    "    data_dirty.loc[row, \"Segment\"] = \"Rich Customer\""
   ]
  },
  {
   "cell_type": "code",
   "execution_count": 23,
   "id": "3ca3029f",
   "metadata": {},
   "outputs": [
    {
     "data": {
      "text/plain": [
       "Consumer         5167\n",
       "Corporate        3003\n",
       "Home Office      1774\n",
       "Rich Customer      50\n",
       "Name: Segment, dtype: int64"
      ]
     },
     "execution_count": 23,
     "metadata": {},
     "output_type": "execute_result"
    }
   ],
   "source": [
    "## Overview \"Segment\" column distribution - After Randomization\n",
    "data_dirty[\"Segment\"].value_counts()"
   ]
  },
  {
   "cell_type": "markdown",
   "id": "8962d62b",
   "metadata": {},
   "source": [
    "Interpretation:\n",
    "\n",
    "Based on the provided information, it seems to be a distribution of customers among different segments. The data appears to represent the number of customers in each segment, with three distinct segments: Consumer, Corporate, Home Office, and Rich Customer."
   ]
  },
  {
   "cell_type": "code",
   "execution_count": 43,
   "id": "4d08552e",
   "metadata": {},
   "outputs": [
    {
     "data": {
      "image/png": "[encoded data removed]",
      "text/plain": [
       "<Figure size 2000x500 with 1 Axes>"
      ]
     },
     "metadata": {},
     "output_type": "display_data"
    }
   ],
   "source": [
    "data_dirty.boxplot(column = [\"Profit\"], figsize = (20, 5)).set_title(\"Outlier Analysis at `Profit` Column\");"
   ]
  },
  {
   "cell_type": "markdown",
   "id": "7566b6a1",
   "metadata": {},
   "source": [
    "Interpretation:\n",
    "\n",
    "Based on figure above we could understand \"Profit\" column has large of rows indicated as outlier, with additional information minimum profit is **-6k** and maximum profit is approximate around **6k++**"
   ]
  },
  {
   "cell_type": "code",
   "execution_count": 44,
   "id": "d92dab09",
   "metadata": {},
   "outputs": [],
   "source": [
    "## Apply randomization for index selected based on total rows\n",
    "random_idx_rows = np.random.choice(data_ori.index, n_rows_missing, replace = False)"
   ]
  },
  {
   "cell_type": "code",
   "execution_count": 45,
   "id": "c641db0f",
   "metadata": {},
   "outputs": [],
   "source": [
    "## 3. Meningkatkan maximum value di kolom profit\n",
    "## Apply new upper bound based on this formula\n",
    "### (max_value + current_value)\n",
    "for row in random_idx_rows:\n",
    "    current_value = data_dirty.loc[row, 'Profit']\n",
    "    data_dirty.loc[row, 'Profit'] = data_dirty['Profit'].max() + current_value"
   ]
  },
  {
   "cell_type": "code",
   "execution_count": 46,
   "id": "8819073c",
   "metadata": {},
   "outputs": [
    {
     "data": {
      "image/png": "[encoded data removed]",
      "text/plain": [
       "<Figure size 2000x500 with 1 Axes>"
      ]
     },
     "metadata": {},
     "output_type": "display_data"
    }
   ],
   "source": [
    "data_dirty.boxplot(column = [\"Profit\"], figsize = (20, 5)).set_title(\"Outlier Analysis at `Profit` Column\");"
   ]
  },
  {
   "cell_type": "markdown",
   "id": "86da6657",
   "metadata": {},
   "source": [
    "Interpretation:\n",
    "\n",
    "Based on figure above we could understand \"Profit\" column has large of rows indicated as outlier, with additional information minimum profit is **-6k** and maximum profit is approximate around **8k++**"
   ]
  },
  {
   "cell_type": "code",
   "execution_count": 47,
   "id": "c56f0126",
   "metadata": {},
   "outputs": [],
   "source": [
    "# Save to Excel - dirty\n",
    "data_dirty.to_excel(\"dataset/superstore-dirty-tugas1.xlsx\", index = False)"
   ]
  },
  {
   "cell_type": "markdown",
   "id": "4ef5a0dd",
   "metadata": {},
   "source": [
    "#### 2. Memperbaiki 3 Permasalahan pada Data Original"
   ]
  },
  {
   "cell_type": "code",
   "execution_count": 242,
   "id": "9115278d",
   "metadata": {},
   "outputs": [],
   "source": [
    "# Load libraries\n",
    "import matplotlib.pyplot as plt"
   ]
  },
  {
   "cell_type": "code",
   "execution_count": 178,
   "id": "2c87f8ac",
   "metadata": {},
   "outputs": [],
   "source": [
    "# Setup pandas display\n",
    "pd.set_option(\"display.max_columns\", None)"
   ]
  },
  {
   "cell_type": "code",
   "execution_count": 179,
   "id": "4bde5716",
   "metadata": {},
   "outputs": [],
   "source": [
    "## Copy dirty dataframe\n",
    "data_clean = data_dirty.copy()"
   ]
  },
  {
   "cell_type": "code",
   "execution_count": 180,
   "id": "5901b31f",
   "metadata": {},
   "outputs": [],
   "source": [
    "## Masalah 1: Membuat Missing Values pada Random Column dan Rows\n",
    "## Solusi 1: Imputasi dgn mean (pada tipe data numerikal) dan mode (pada tipe data kategorikal)"
   ]
  },
  {
   "cell_type": "code",
   "execution_count": 181,
   "id": "673b72d6",
   "metadata": {},
   "outputs": [
    {
     "data": {
      "text/html": [
       "<div>\n",
       "<style scoped>\n",
       "    .dataframe tbody tr th:only-of-type {\n",
       "        vertical-align: middle;\n",
       "    }\n",
       "\n",
       "    .dataframe tbody tr th {\n",
       "        vertical-align: top;\n",
       "    }\n",
       "\n",
       "    .dataframe thead th {\n",
       "        text-align: right;\n",
       "    }\n",
       "</style>\n",
       "<table border=\"1\" class=\"dataframe\">\n",
       "  <thead>\n",
       "    <tr style=\"text-align: right;\">\n",
       "      <th></th>\n",
       "      <th>Column</th>\n",
       "      <th>Count NaN</th>\n",
       "      <th>Type Data</th>\n",
       "    </tr>\n",
       "  </thead>\n",
       "  <tbody>\n",
       "    <tr>\n",
       "      <th>0</th>\n",
       "      <td>Order ID</td>\n",
       "      <td>50</td>\n",
       "      <td>object</td>\n",
       "    </tr>\n",
       "    <tr>\n",
       "      <th>1</th>\n",
       "      <td>Ship Mode</td>\n",
       "      <td>50</td>\n",
       "      <td>object</td>\n",
       "    </tr>\n",
       "    <tr>\n",
       "      <th>2</th>\n",
       "      <td>City</td>\n",
       "      <td>50</td>\n",
       "      <td>object</td>\n",
       "    </tr>\n",
       "    <tr>\n",
       "      <th>3</th>\n",
       "      <td>Sub-Category</td>\n",
       "      <td>50</td>\n",
       "      <td>object</td>\n",
       "    </tr>\n",
       "    <tr>\n",
       "      <th>4</th>\n",
       "      <td>Profit</td>\n",
       "      <td>50</td>\n",
       "      <td>float64</td>\n",
       "    </tr>\n",
       "  </tbody>\n",
       "</table>\n",
       "</div>"
      ],
      "text/plain": [
       "         Column  Count NaN Type Data\n",
       "0      Order ID         50    object\n",
       "1     Ship Mode         50    object\n",
       "2          City         50    object\n",
       "3  Sub-Category         50    object\n",
       "4        Profit         50   float64"
      ]
     },
     "execution_count": 181,
     "metadata": {},
     "output_type": "execute_result"
    }
   ],
   "source": [
    "## Overview which column contain NaN - Before Solve Problem\n",
    "df_1 = pd.DataFrame(data_clean.isna().sum()).reset_index()\n",
    "df_1.columns = ['Column', 'Count NaN']\n",
    "df_1 = df_1[df_1['Count NaN'] != 0].reset_index(drop = True)\n",
    "df_1['Type Data'] = df_1['Column'].apply(lambda col: data_clean[col].dtype)\n",
    "df_1"
   ]
  },
  {
   "cell_type": "code",
   "execution_count": 182,
   "id": "3baf1f22",
   "metadata": {},
   "outputs": [],
   "source": [
    "## Apply as mentioned\n",
    "for column, column_type in zip(df_1['Column'], df_1['Type Data']):\n",
    "    if column == \"Order ID\":\n",
    "        continue\n",
    "    elif column_type == \"object\":\n",
    "        imputation = data_clean[column].mode().values[0]\n",
    "    else:\n",
    "        imputation = data_clean[column].mean()\n",
    "    data_clean[column] = data_clean[column].fillna(imputation)"
   ]
  },
  {
   "cell_type": "code",
   "execution_count": 183,
   "id": "b013a911",
   "metadata": {},
   "outputs": [
    {
     "data": {
      "text/html": [
       "<div>\n",
       "<style scoped>\n",
       "    .dataframe tbody tr th:only-of-type {\n",
       "        vertical-align: middle;\n",
       "    }\n",
       "\n",
       "    .dataframe tbody tr th {\n",
       "        vertical-align: top;\n",
       "    }\n",
       "\n",
       "    .dataframe thead th {\n",
       "        text-align: right;\n",
       "    }\n",
       "</style>\n",
       "<table border=\"1\" class=\"dataframe\">\n",
       "  <thead>\n",
       "    <tr style=\"text-align: right;\">\n",
       "      <th></th>\n",
       "      <th>Column</th>\n",
       "      <th>Count NaN</th>\n",
       "      <th>Type Data</th>\n",
       "    </tr>\n",
       "  </thead>\n",
       "  <tbody>\n",
       "    <tr>\n",
       "      <th>0</th>\n",
       "      <td>Order ID</td>\n",
       "      <td>50</td>\n",
       "      <td>object</td>\n",
       "    </tr>\n",
       "  </tbody>\n",
       "</table>\n",
       "</div>"
      ],
      "text/plain": [
       "     Column  Count NaN Type Data\n",
       "0  Order ID         50    object"
      ]
     },
     "execution_count": 183,
     "metadata": {},
     "output_type": "execute_result"
    }
   ],
   "source": [
    "## Overview which column contain NaN - After Solve Problem\n",
    "df_1 = pd.DataFrame(data_clean.isna().sum()).reset_index()\n",
    "df_1.columns = ['Column', 'Count NaN']\n",
    "df_1 = df_1[df_1['Count NaN'] != 0].reset_index(drop = True)\n",
    "df_1['Type Data'] = df_1['Column'].apply(lambda col: data_clean[col].dtype)\n",
    "df_1"
   ]
  },
  {
   "cell_type": "code",
   "execution_count": 184,
   "id": "d7e71647",
   "metadata": {},
   "outputs": [],
   "source": [
    "# NOTE: Order ID should be unique, means we need to find duplicate pattern based on selected column\n",
    "## Strategy 1: Imputation with similar \"Order Date\", \"Ship Date\", and \"Customer ID\"\n",
    "indices_OrderId_NaN = data_clean[data_clean['Order ID'].isna()].index\n",
    "for idx in indices_OrderId_NaN:\n",
    "    try:\n",
    "        value = data_clean[\n",
    "            (data_clean['Order Date'] == data_clean.loc[idx, 'Order Date']) & \\\n",
    "            (data_clean['Ship Date'] == data_clean.loc[idx, 'Ship Date']) & \\\n",
    "            (data_clean['Customer ID'] == data_clean.loc[idx, 'Customer ID'])\n",
    "        ].dropna().reset_index(drop = True)['Order ID'][0]\n",
    "        data_clean.loc[idx, 'Order ID'] = value\n",
    "    # NOTE: Strategy 1 not implemented due there is not similar row\n",
    "    except (ValueError, KeyError):\n",
    "        pass"
   ]
  },
  {
   "cell_type": "code",
   "execution_count": 185,
   "id": "dd753c91",
   "metadata": {},
   "outputs": [
    {
     "data": {
      "text/html": [
       "<div>\n",
       "<style scoped>\n",
       "    .dataframe tbody tr th:only-of-type {\n",
       "        vertical-align: middle;\n",
       "    }\n",
       "\n",
       "    .dataframe tbody tr th {\n",
       "        vertical-align: top;\n",
       "    }\n",
       "\n",
       "    .dataframe thead th {\n",
       "        text-align: right;\n",
       "    }\n",
       "</style>\n",
       "<table border=\"1\" class=\"dataframe\">\n",
       "  <thead>\n",
       "    <tr style=\"text-align: right;\">\n",
       "      <th></th>\n",
       "      <th>Column</th>\n",
       "      <th>Count NaN</th>\n",
       "      <th>Type Data</th>\n",
       "    </tr>\n",
       "  </thead>\n",
       "  <tbody>\n",
       "    <tr>\n",
       "      <th>0</th>\n",
       "      <td>Order ID</td>\n",
       "      <td>13</td>\n",
       "      <td>object</td>\n",
       "    </tr>\n",
       "  </tbody>\n",
       "</table>\n",
       "</div>"
      ],
      "text/plain": [
       "     Column  Count NaN Type Data\n",
       "0  Order ID         13    object"
      ]
     },
     "execution_count": 185,
     "metadata": {},
     "output_type": "execute_result"
    }
   ],
   "source": [
    "## Overview which column contain NaN - After Implement Strategy 1\n",
    "df_1 = pd.DataFrame(data_clean.isna().sum()).reset_index()\n",
    "df_1.columns = ['Column', 'Count NaN']\n",
    "df_1 = df_1[df_1['Count NaN'] != 0].reset_index(drop = True)\n",
    "df_1['Type Data'] = df_1['Column'].apply(lambda col: data_clean[col].dtype)\n",
    "df_1"
   ]
  },
  {
   "cell_type": "code",
   "execution_count": 186,
   "id": "a36403d5",
   "metadata": {},
   "outputs": [],
   "source": [
    "## Masalah 2: Mengubah format data pada kolom \"Segment\"\n",
    "## Solusi 2: Normalisasi kategori dengan meninjau distribusi data terdekat."
   ]
  },
  {
   "cell_type": "code",
   "execution_count": 187,
   "id": "85953425",
   "metadata": {},
   "outputs": [
    {
     "data": {
      "text/html": [
       "<div>\n",
       "<style scoped>\n",
       "    .dataframe tbody tr th:only-of-type {\n",
       "        vertical-align: middle;\n",
       "    }\n",
       "\n",
       "    .dataframe tbody tr th {\n",
       "        vertical-align: top;\n",
       "    }\n",
       "\n",
       "    .dataframe thead th {\n",
       "        text-align: right;\n",
       "    }\n",
       "</style>\n",
       "<table border=\"1\" class=\"dataframe\">\n",
       "  <thead>\n",
       "    <tr style=\"text-align: right;\">\n",
       "      <th></th>\n",
       "      <th>Segment</th>\n",
       "    </tr>\n",
       "  </thead>\n",
       "  <tbody>\n",
       "    <tr>\n",
       "      <th>Consumer</th>\n",
       "      <td>5167</td>\n",
       "    </tr>\n",
       "    <tr>\n",
       "      <th>Corporate</th>\n",
       "      <td>3003</td>\n",
       "    </tr>\n",
       "    <tr>\n",
       "      <th>Home Office</th>\n",
       "      <td>1774</td>\n",
       "    </tr>\n",
       "    <tr>\n",
       "      <th>Rich Customer</th>\n",
       "      <td>50</td>\n",
       "    </tr>\n",
       "  </tbody>\n",
       "</table>\n",
       "</div>"
      ],
      "text/plain": [
       "               Segment\n",
       "Consumer          5167\n",
       "Corporate         3003\n",
       "Home Office       1774\n",
       "Rich Customer       50"
      ]
     },
     "execution_count": 187,
     "metadata": {},
     "output_type": "execute_result"
    }
   ],
   "source": [
    "## Overview segment categories - before treating\n",
    "pd.DataFrame(data_clean['Segment'].value_counts())"
   ]
  },
  {
   "cell_type": "code",
   "execution_count": 188,
   "id": "1b77c270",
   "metadata": {},
   "outputs": [],
   "source": [
    "# NOTE: Usually customer segmentation has single category per \"Customer ID\" or \"Customer Name\"\n",
    "## Apply similar \"Customer Name\" with Original categories outside \"Rich Customer\"\n",
    "indices_anomaly_segment = data_clean[data_clean['Segment'] == \"Rich Customer\"].index\n",
    "for idx in indices_anomaly_segment:\n",
    "    value = data_clean[\n",
    "        (data_clean['Customer Name'] == data_clean.loc[idx, 'Customer Name']) & \\\n",
    "        (data_clean['Segment'] != \"Rich Customer\")\n",
    "    ][\"Segment\"].values[0]\n",
    "    data_clean.loc[idx, \"Segment\"] = value"
   ]
  },
  {
   "cell_type": "code",
   "execution_count": 189,
   "id": "2945f437",
   "metadata": {},
   "outputs": [
    {
     "data": {
      "text/html": [
       "<div>\n",
       "<style scoped>\n",
       "    .dataframe tbody tr th:only-of-type {\n",
       "        vertical-align: middle;\n",
       "    }\n",
       "\n",
       "    .dataframe tbody tr th {\n",
       "        vertical-align: top;\n",
       "    }\n",
       "\n",
       "    .dataframe thead th {\n",
       "        text-align: right;\n",
       "    }\n",
       "</style>\n",
       "<table border=\"1\" class=\"dataframe\">\n",
       "  <thead>\n",
       "    <tr style=\"text-align: right;\">\n",
       "      <th></th>\n",
       "      <th>Segment</th>\n",
       "    </tr>\n",
       "  </thead>\n",
       "  <tbody>\n",
       "    <tr>\n",
       "      <th>Consumer</th>\n",
       "      <td>5191</td>\n",
       "    </tr>\n",
       "    <tr>\n",
       "      <th>Corporate</th>\n",
       "      <td>3020</td>\n",
       "    </tr>\n",
       "    <tr>\n",
       "      <th>Home Office</th>\n",
       "      <td>1783</td>\n",
       "    </tr>\n",
       "  </tbody>\n",
       "</table>\n",
       "</div>"
      ],
      "text/plain": [
       "             Segment\n",
       "Consumer        5191\n",
       "Corporate       3020\n",
       "Home Office     1783"
      ]
     },
     "execution_count": 189,
     "metadata": {},
     "output_type": "execute_result"
    }
   ],
   "source": [
    "## Overview segment categories - after treating\n",
    "pd.DataFrame(data_clean['Segment'].value_counts())"
   ]
  },
  {
   "cell_type": "code",
   "execution_count": 243,
   "id": "3235bd5c",
   "metadata": {},
   "outputs": [],
   "source": [
    "## Masalah 3: Meningkatkan maximum value di kolom profit\n",
    "## Solusi 3: Remove Outlier - decision was made according figure boxplot above\n",
    "\n",
    "# NOTE: \n",
    "## Method Used: IQR\n",
    "def remove_outliers_iqr(df, column_name, lower_bound=0.25, upper_bound=0.75):\n",
    "    \"\"\"\n",
    "    Remove outliers from a specific column using the Interquartile Range (IQR) method.\n",
    "\n",
    "    Parameters:\n",
    "    - df: DataFrame\n",
    "    - column_name: str\n",
    "        Name of the column in which outliers should be removed.\n",
    "    - lower_bound: float\n",
    "        Lower bound of the IQR. Default is 0.25.\n",
    "    - upper_bound: float\n",
    "        Upper bound of the IQR. Default is 0.75.\n",
    "\n",
    "    Returns:\n",
    "    - DataFrame\n",
    "        DataFrame with outliers removed from the specified column.\n",
    "    \"\"\"\n",
    "    q1 = df[column_name].quantile(lower_bound)\n",
    "    q3 = df[column_name].quantile(upper_bound)\n",
    "    iqr = q3 - q1\n",
    "    \n",
    "    lower_bound = q1 - 1.5 * iqr\n",
    "    upper_bound = q3 + 1.5 * iqr\n",
    "    \n",
    "    df_filtered = df[(df[column_name] >= lower_bound) & (df[column_name] <= upper_bound)]\n",
    "    \n",
    "    return df_filtered"
   ]
  },
  {
   "cell_type": "code",
   "execution_count": 244,
   "id": "d61bc9d2",
   "metadata": {},
   "outputs": [],
   "source": [
    "data_clean = remove_outliers_iqr(data_clean, \"Profit\").reset_index(drop = True)"
   ]
  },
  {
   "cell_type": "code",
   "execution_count": 245,
   "id": "43932815",
   "metadata": {},
   "outputs": [
    {
     "data": {
      "image/png": "[encoded data removed]",
      "text/plain": [
       "<Figure size 2000x500 with 1 Axes>"
      ]
     },
     "metadata": {},
     "output_type": "display_data"
    }
   ],
   "source": [
    "data_clean.boxplot(\n",
    "    column = [\"Profit\"], \n",
    "    figsize = (20, 5)\n",
    ").set_title(\"Outlier Analysis at `Profit` Column after Outlier Removal\");"
   ]
  },
  {
   "cell_type": "code",
   "execution_count": 246,
   "id": "1648cad4",
   "metadata": {},
   "outputs": [],
   "source": [
    "# Save to Excel - clean\n",
    "data_clean.to_excel(\"dataset/superstore-clean-tugas1.xlsx\", index = False)"
   ]
  }
 ],
 "metadata": {
  "kernelspec": {
   "display_name": "Python 3 (ipykernel)",
   "language": "python",
   "name": "python3"
  },
  "language_info": {
   "codemirror_mode": {
    "name": "ipython",
    "version": 3
   },
   "file_extension": ".py",
   "mimetype": "text/x-python",
   "name": "python",
   "nbconvert_exporter": "python",
   "pygments_lexer": "ipython3",
   "version": "3.9.7"
  }
 },
 "nbformat": 4,
 "nbformat_minor": 5
}
